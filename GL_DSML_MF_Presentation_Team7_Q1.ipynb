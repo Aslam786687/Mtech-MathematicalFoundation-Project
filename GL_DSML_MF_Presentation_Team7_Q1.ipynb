{
 "cells": [
  {
   "cell_type": "markdown",
   "id": "b9b7e57e",
   "metadata": {},
   "source": [
    "# 5 questions on Functions and derivatives along with a business application     "
   ]
  },
  {
   "cell_type": "code",
   "execution_count": 4,
   "id": "2d42644a",
   "metadata": {},
   "outputs": [],
   "source": [
    "# Import the libraries\n",
    "import numpy as np\n",
    "import pandas as pd\n",
    "import matplotlib.pyplot as plt\n",
    "from PIL  import Image\n",
    "import scipy\n",
    "from skimage import data\n",
    "from numpy import *\n",
    "%matplotlib notebook\n",
    "from numpy.linalg import matrix_rank\n",
    "import sympy as sym"
   ]
  },
  {
   "cell_type": "code",
   "execution_count": 5,
   "id": "0979802b",
   "metadata": {},
   "outputs": [],
   "source": [
    "x = sym.Symbol('x')\n",
    "y = sym.Symbol('y')"
   ]
  },
  {
   "cell_type": "markdown",
   "id": "1009fb1f",
   "metadata": {},
   "source": [
    "1. The total cost C(x) in Rupees, associated with the production of x units of an item is given by \n",
    "C(x)=  0.005x^3-0.02x^2+ 30x+5000 .\n",
    "Find the marginal cost when 3 units are produced, where by marginal cost we mean the instantaneous rate of change of total cost at any level of output.\n"
   ]
  },
  {
   "cell_type": "code",
   "execution_count": 6,
   "id": "d963f07a",
   "metadata": {},
   "outputs": [
    {
     "data": {
      "text/latex": [
       "$\\displaystyle 0.015 x^{2} - 0.04 x + 30$"
      ],
      "text/plain": [
       "0.015*x**2 - 0.04*x + 30"
      ]
     },
     "execution_count": 6,
     "metadata": {},
     "output_type": "execute_result"
    }
   ],
   "source": [
    "# Since marginal cost is the rate of change of total cost with respect to the output, we have\n",
    "# dC/dx\n",
    "cost_MC = 0.005 * 3 * x ** 2 - 0.02 * 2 * x + 30\n",
    "cost_MC"
   ]
  },
  {
   "cell_type": "code",
   "execution_count": 12,
   "id": "3c28c9b3",
   "metadata": {},
   "outputs": [
    {
     "name": "stdout",
     "output_type": "stream",
     "text": [
      "The required marginal cost is: 30.02 Rs.\n"
     ]
    }
   ],
   "source": [
    "# At x = 3, \n",
    "def f(x):\n",
    "    return 0.005 * 3 * x ** 2 - 0.02 * 2 * x + 30\n",
    "\n",
    "MC = f(3)\n",
    "print(f'The required marginal cost is: {MC:.2f} Rs.')"
   ]
  },
  {
   "cell_type": "markdown",
   "id": "5af7ad12",
   "metadata": {},
   "source": [
    "2. The total revenue in Rupees received from the sale of x units of a product is given by \n",
    "3x^2+36x+5.\n",
    "Find the marginal revenue, when x = 5, where by marginal revenue we mean the rate of change of total revenue with respect to the number of items sold at an instant.\n"
   ]
  },
  {
   "cell_type": "code",
   "execution_count": 16,
   "id": "28cc0a03",
   "metadata": {},
   "outputs": [
    {
     "name": "stdout",
     "output_type": "stream",
     "text": [
      "The required marginal revenue is: 66 Rs.\n"
     ]
    }
   ],
   "source": [
    "#  As marginal revenue is the rate of change of total revenue with respect to the number of units sold, \n",
    "# dR/dx\n",
    "MR = 6 * x + 36\n",
    "\n",
    "# At x = 5,\n",
    "MR = 6 * 5 + 36\n",
    "\n",
    "print(f'The required marginal revenue is: {MR} Rs.')"
   ]
  },
  {
   "cell_type": "markdown",
   "id": "5641a0df",
   "metadata": {},
   "source": [
    "3. A circular disc of radius 3 cm is being heated. Due to expansion, its\n",
    "radius increases at the rate of 0.05 cm/s. Find the rate at which its area is increasing\n",
    "when radius is 3.2 cm.\n"
   ]
  },
  {
   "cell_type": "code",
   "execution_count": 23,
   "id": "9876547a",
   "metadata": {},
   "outputs": [
    {
     "name": "stdout",
     "output_type": "stream",
     "text": [
      "the approximate rate of increase in area is given by: 0.32*pi\n"
     ]
    }
   ],
   "source": [
    "# Let r be the radius of the given disc and A be its area. Then\n",
    "r = sym.Symbol('r')\n",
    "A = sym.pi * r**2\n",
    "dr_dt = 0.05\n",
    "\n",
    "# dA/dt\n",
    "dA_dt = 2*sym.pi*r*dr_dt\n",
    "\n",
    "# at r = 3.2 cm\n",
    "dA_dt = 2*sym.pi*3.2*0.05\n",
    "\n",
    "print(f'the approximate rate of increase in area is given by: {dA_dt}')"
   ]
  },
  {
   "attachments": {
    "image-2.png": {
     "image/png": "[encoded data removed]"
    }
   },
   "cell_type": "markdown",
   "id": "c1115136",
   "metadata": {},
   "source": [
    "4. \tA water tank has the shape of an inverted right circular cone with its axis vertical and vertex lowermost. Its semi-vertical angle is tan^-1(1/2). Water is poured into it at a constant rate of 5 cubic metre per hour. Find the rate at which the level of the water is rising at the instant when the depth of water in the tank is 4 m.\n",
    "\n",
    "![image-2.png](attachment:image-2.png)"
   ]
  },
  {
   "cell_type": "markdown",
   "id": "a11bf021",
   "metadata": {},
   "source": [
    "Let r, h and α be as per the given diagram; then, tan α = r/h\n",
    "    Hence, α = tan^-1 (r/h)\n",
    "    \n",
    "Given - α = tan^-1 (0.5); Hence r/h = 0.5 and r = h/2\n",
    "\n",
    "If 'V' is the volume of the cone; then, V = πr^2 * h / 3\n",
    "Substitute for r -\n",
    "        V = πh(h/2)^2 / 3\n",
    "          = π*h^3 / 12\n",
    "\n",
    "dV/dt = dV/dh * dh/dt - using chain rule\n",
    "\n",
    "Thus, dV/dt = d/dt (π*h^3 / 12) * dh/dt = (π*h^2 / 4) * dh/dt ---> Eq.1\n",
    "\n",
    "Given, rate of change of volume = dV/dt = 5 and h = 4; substitute in Eq.1\n",
    "    dh/dt = 5/4π\n",
    "    with π = 22/7, dh/dt = 5 * 7/4 * 22 = 35/88\n",
    "    \n",
    "    \n",
    "Thus, the rate of change of water level is - (35/88) m/h\n",
    "----\n"
   ]
  },
  {
   "cell_type": "markdown",
   "id": "78dfe327",
   "metadata": {},
   "source": [
    "5. \tManufacturer can sell x items at a price of rupees (5-x/100  ) each. The cost price of x items is Rs (500+x/5  ). Find the number of items he should sell to earn maximum profit."
   ]
  },
  {
   "cell_type": "code",
   "execution_count": 26,
   "id": "1828cb91",
   "metadata": {},
   "outputs": [
    {
     "data": {
      "text/latex": [
       "$\\displaystyle - \\frac{x^{2}}{100} + \\frac{24 x}{5} - 500$"
      ],
      "text/plain": [
       "-x**2/100 + 24*x/5 - 500"
      ]
     },
     "execution_count": 26,
     "metadata": {},
     "output_type": "execute_result"
    }
   ],
   "source": [
    "# n Let S(x) be the selling price of x items and let C(x) be the cost price of xitems. Then, \n",
    "S_x = (5-x/100)*x\n",
    "C_x = (500+x/5)\n",
    "\n",
    "# Hence, profit function P(x)\n",
    "P_x = S_x - C_x \n",
    "P_x = sym.simplify(P_x)\n",
    "P_x\n"
   ]
  },
  {
   "cell_type": "code",
   "execution_count": 27,
   "id": "f92479ea",
   "metadata": {},
   "outputs": [
    {
     "data": {
      "text/latex": [
       "$\\displaystyle \\frac{24}{5} - \\frac{x}{50}$"
      ],
      "text/plain": [
       "24/5 - x/50"
      ]
     },
     "execution_count": 27,
     "metadata": {},
     "output_type": "execute_result"
    }
   ],
   "source": [
    "# Hence, P'(x) \n",
    "dP_dx = sym.diff(P_x)\n",
    "dP_dx"
   ]
  },
  {
   "cell_type": "code",
   "execution_count": 30,
   "id": "07d7a311",
   "metadata": {},
   "outputs": [],
   "source": [
    "# P′(x) = 0 gives x = 240 and P\"(x) = -1/50\n",
    "# Thus, x = 240 is a point of maxima. Hence, the manufacturer can earn maximum profit, if he sells 240 items."
   ]
  }
 ],
 "metadata": {
  "kernelspec": {
   "display_name": "Python 3",
   "language": "python",
   "name": "python3"
  },
  "language_info": {
   "codemirror_mode": {
    "name": "ipython",
    "version": 3
   },
   "file_extension": ".py",
   "mimetype": "text/x-python",
   "name": "python",
   "nbconvert_exporter": "python",
   "pygments_lexer": "ipython3",
   "version": "3.8.8"
  }
 },
 "nbformat": 4,
 "nbformat_minor": 5
}
