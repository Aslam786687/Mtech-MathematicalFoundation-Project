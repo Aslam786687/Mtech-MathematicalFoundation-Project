{
 "cells": [
  {
   "cell_type": "code",
   "execution_count": 17,
   "id": "507054c0",
   "metadata": {},
   "outputs": [],
   "source": [
    "from sklearn.decomposition import PCA\n",
    "import pandas as pd\n",
    "import numpy as np\n",
    "import matplotlib.pyplot as plt\n",
    "%matplotlib inline\n",
    "import scipy.linalg as la\n",
    "from numpy.linalg import eig\n",
    "from sklearn.decomposition import PCA"
   ]
  },
  {
   "cell_type": "code",
   "execution_count": 2,
   "id": "13c20c1e",
   "metadata": {},
   "outputs": [
    {
     "data": {
      "text/plain": [
       "PCA(n_components=8)"
      ]
     },
     "execution_count": 2,
     "metadata": {},
     "output_type": "execute_result"
    }
   ],
   "source": [
    "# PCA with 8 components\n",
    "\n",
    "pca = PCA(n_components=8)\n",
    "pca"
   ]
  },
  {
   "cell_type": "code",
   "execution_count": 3,
   "id": "0944d8f1",
   "metadata": {},
   "outputs": [
    {
     "data": {
      "text/html": [
       "<div>\n",
       "<style scoped>\n",
       "    .dataframe tbody tr th:only-of-type {\n",
       "        vertical-align: middle;\n",
       "    }\n",
       "\n",
       "    .dataframe tbody tr th {\n",
       "        vertical-align: top;\n",
       "    }\n",
       "\n",
       "    .dataframe thead th {\n",
       "        text-align: right;\n",
       "    }\n",
       "</style>\n",
       "<table border=\"1\" class=\"dataframe\">\n",
       "  <thead>\n",
       "    <tr style=\"text-align: right;\">\n",
       "      <th></th>\n",
       "      <th>x1</th>\n",
       "      <th>x2</th>\n",
       "      <th>x3</th>\n",
       "      <th>x4</th>\n",
       "      <th>x5</th>\n",
       "      <th>x6</th>\n",
       "      <th>x7</th>\n",
       "      <th>x8</th>\n",
       "      <th>x9</th>\n",
       "      <th>x10</th>\n",
       "      <th>x11</th>\n",
       "      <th>x12</th>\n",
       "      <th>x13</th>\n",
       "    </tr>\n",
       "  </thead>\n",
       "  <tbody>\n",
       "    <tr>\n",
       "      <th>0</th>\n",
       "      <td>90</td>\n",
       "      <td>88</td>\n",
       "      <td>98</td>\n",
       "      <td>91</td>\n",
       "      <td>95</td>\n",
       "      <td>96</td>\n",
       "      <td>67</td>\n",
       "      <td>95</td>\n",
       "      <td>86</td>\n",
       "      <td>87</td>\n",
       "      <td>94</td>\n",
       "      <td>91</td>\n",
       "      <td>95</td>\n",
       "    </tr>\n",
       "    <tr>\n",
       "      <th>1</th>\n",
       "      <td>88</td>\n",
       "      <td>89</td>\n",
       "      <td>95</td>\n",
       "      <td>91</td>\n",
       "      <td>90</td>\n",
       "      <td>97</td>\n",
       "      <td>84</td>\n",
       "      <td>75</td>\n",
       "      <td>88</td>\n",
       "      <td>86</td>\n",
       "      <td>65</td>\n",
       "      <td>96</td>\n",
       "      <td>96</td>\n",
       "    </tr>\n",
       "    <tr>\n",
       "      <th>2</th>\n",
       "      <td>78</td>\n",
       "      <td>88</td>\n",
       "      <td>98</td>\n",
       "      <td>85</td>\n",
       "      <td>82</td>\n",
       "      <td>74</td>\n",
       "      <td>76</td>\n",
       "      <td>84</td>\n",
       "      <td>86</td>\n",
       "      <td>95</td>\n",
       "      <td>91</td>\n",
       "      <td>88</td>\n",
       "      <td>96</td>\n",
       "    </tr>\n",
       "    <tr>\n",
       "      <th>3</th>\n",
       "      <td>80</td>\n",
       "      <td>85</td>\n",
       "      <td>81</td>\n",
       "      <td>91</td>\n",
       "      <td>92</td>\n",
       "      <td>97</td>\n",
       "      <td>99</td>\n",
       "      <td>99</td>\n",
       "      <td>92</td>\n",
       "      <td>91</td>\n",
       "      <td>86</td>\n",
       "      <td>95</td>\n",
       "      <td>96</td>\n",
       "    </tr>\n",
       "    <tr>\n",
       "      <th>4</th>\n",
       "      <td>69</td>\n",
       "      <td>95</td>\n",
       "      <td>67</td>\n",
       "      <td>88</td>\n",
       "      <td>84</td>\n",
       "      <td>85</td>\n",
       "      <td>86</td>\n",
       "      <td>96</td>\n",
       "      <td>91</td>\n",
       "      <td>97</td>\n",
       "      <td>79</td>\n",
       "      <td>89</td>\n",
       "      <td>90</td>\n",
       "    </tr>\n",
       "    <tr>\n",
       "      <th>5</th>\n",
       "      <td>78</td>\n",
       "      <td>79</td>\n",
       "      <td>78</td>\n",
       "      <td>81</td>\n",
       "      <td>80</td>\n",
       "      <td>86</td>\n",
       "      <td>91</td>\n",
       "      <td>79</td>\n",
       "      <td>74</td>\n",
       "      <td>85</td>\n",
       "      <td>98</td>\n",
       "      <td>99</td>\n",
       "      <td>93</td>\n",
       "    </tr>\n",
       "    <tr>\n",
       "      <th>6</th>\n",
       "      <td>93</td>\n",
       "      <td>95</td>\n",
       "      <td>96</td>\n",
       "      <td>69</td>\n",
       "      <td>79</td>\n",
       "      <td>89</td>\n",
       "      <td>78</td>\n",
       "      <td>84</td>\n",
       "      <td>82</td>\n",
       "      <td>86</td>\n",
       "      <td>85</td>\n",
       "      <td>94</td>\n",
       "      <td>79</td>\n",
       "    </tr>\n",
       "    <tr>\n",
       "      <th>7</th>\n",
       "      <td>89</td>\n",
       "      <td>88</td>\n",
       "      <td>85</td>\n",
       "      <td>94</td>\n",
       "      <td>80</td>\n",
       "      <td>82</td>\n",
       "      <td>90</td>\n",
       "      <td>92</td>\n",
       "      <td>96</td>\n",
       "      <td>77</td>\n",
       "      <td>95</td>\n",
       "      <td>98</td>\n",
       "      <td>79</td>\n",
       "    </tr>\n",
       "    <tr>\n",
       "      <th>8</th>\n",
       "      <td>78</td>\n",
       "      <td>99</td>\n",
       "      <td>90</td>\n",
       "      <td>90</td>\n",
       "      <td>90</td>\n",
       "      <td>92</td>\n",
       "      <td>96</td>\n",
       "      <td>93</td>\n",
       "      <td>98</td>\n",
       "      <td>85</td>\n",
       "      <td>86</td>\n",
       "      <td>88</td>\n",
       "      <td>81</td>\n",
       "    </tr>\n",
       "    <tr>\n",
       "      <th>9</th>\n",
       "      <td>78</td>\n",
       "      <td>95</td>\n",
       "      <td>96</td>\n",
       "      <td>91</td>\n",
       "      <td>75</td>\n",
       "      <td>73</td>\n",
       "      <td>74</td>\n",
       "      <td>83</td>\n",
       "      <td>85</td>\n",
       "      <td>94</td>\n",
       "      <td>95</td>\n",
       "      <td>90</td>\n",
       "      <td>88</td>\n",
       "    </tr>\n",
       "    <tr>\n",
       "      <th>10</th>\n",
       "      <td>78</td>\n",
       "      <td>78</td>\n",
       "      <td>79</td>\n",
       "      <td>81</td>\n",
       "      <td>80</td>\n",
       "      <td>80</td>\n",
       "      <td>82</td>\n",
       "      <td>82</td>\n",
       "      <td>83</td>\n",
       "      <td>93</td>\n",
       "      <td>91</td>\n",
       "      <td>91</td>\n",
       "      <td>75</td>\n",
       "    </tr>\n",
       "    <tr>\n",
       "      <th>11</th>\n",
       "      <td>78</td>\n",
       "      <td>78</td>\n",
       "      <td>79</td>\n",
       "      <td>80</td>\n",
       "      <td>83</td>\n",
       "      <td>84</td>\n",
       "      <td>85</td>\n",
       "      <td>76</td>\n",
       "      <td>79</td>\n",
       "      <td>90</td>\n",
       "      <td>90</td>\n",
       "      <td>91</td>\n",
       "      <td>91</td>\n",
       "    </tr>\n",
       "    <tr>\n",
       "      <th>12</th>\n",
       "      <td>88</td>\n",
       "      <td>89</td>\n",
       "      <td>87</td>\n",
       "      <td>87</td>\n",
       "      <td>91</td>\n",
       "      <td>91</td>\n",
       "      <td>92</td>\n",
       "      <td>89</td>\n",
       "      <td>78</td>\n",
       "      <td>89</td>\n",
       "      <td>89</td>\n",
       "      <td>91</td>\n",
       "      <td>79</td>\n",
       "    </tr>\n",
       "  </tbody>\n",
       "</table>\n",
       "</div>"
      ],
      "text/plain": [
       "    x1  x2  x3  x4  x5  x6  x7  x8  x9  x10  x11  x12  x13\n",
       "0   90  88  98  91  95  96  67  95  86   87   94   91   95\n",
       "1   88  89  95  91  90  97  84  75  88   86   65   96   96\n",
       "2   78  88  98  85  82  74  76  84  86   95   91   88   96\n",
       "3   80  85  81  91  92  97  99  99  92   91   86   95   96\n",
       "4   69  95  67  88  84  85  86  96  91   97   79   89   90\n",
       "5   78  79  78  81  80  86  91  79  74   85   98   99   93\n",
       "6   93  95  96  69  79  89  78  84  82   86   85   94   79\n",
       "7   89  88  85  94  80  82  90  92  96   77   95   98   79\n",
       "8   78  99  90  90  90  92  96  93  98   85   86   88   81\n",
       "9   78  95  96  91  75  73  74  83  85   94   95   90   88\n",
       "10  78  78  79  81  80  80  82  82  83   93   91   91   75\n",
       "11  78  78  79  80  83  84  85  76  79   90   90   91   91\n",
       "12  88  89  87  87  91  91  92  89  78   89   89   91   79"
      ]
     },
     "execution_count": 3,
     "metadata": {},
     "output_type": "execute_result"
    }
   ],
   "source": [
    "df_mde = pd.read_csv('MDE.csv')\n",
    "df_mde"
   ]
  },
  {
   "cell_type": "code",
   "execution_count": 4,
   "id": "e3765b10",
   "metadata": {},
   "outputs": [
    {
     "data": {
      "text/plain": [
       "(13, 13)"
      ]
     },
     "execution_count": 4,
     "metadata": {},
     "output_type": "execute_result"
    }
   ],
   "source": [
    "df_mde.shape"
   ]
  },
  {
   "cell_type": "code",
   "execution_count": 5,
   "id": "e2cb9369",
   "metadata": {},
   "outputs": [
    {
     "data": {
      "text/plain": [
       "PCA(n_components=8)"
      ]
     },
     "execution_count": 5,
     "metadata": {},
     "output_type": "execute_result"
    }
   ],
   "source": [
    "pca.fit(df_mde)"
   ]
  },
  {
   "cell_type": "code",
   "execution_count": 6,
   "id": "cac43139",
   "metadata": {},
   "outputs": [
    {
     "data": {
      "text/plain": [
       "array([[-6.99078958e-03,  1.60221296e-01, -1.88764060e-01,\n",
       "         2.77085417e-01,  3.31556720e-01,  4.34703949e-01,\n",
       "         4.41218293e-01,  3.77666911e-01,  3.42026294e-01,\n",
       "        -8.50061021e-02, -3.11015904e-01,  2.40395884e-02,\n",
       "         6.44359318e-02],\n",
       "       [ 3.91033215e-01,  2.43926045e-01,  7.00875106e-01,\n",
       "         7.83045692e-02,  1.72836169e-01,  2.02892658e-01,\n",
       "        -3.93976059e-01, -8.42182953e-04,  9.66573278e-02,\n",
       "        -1.08835960e-01, -1.73195299e-01, -1.92085728e-02,\n",
       "         1.11474155e-01],\n",
       "       [ 2.07597611e-01, -3.59688990e-01, -8.88171775e-02,\n",
       "        -2.75651252e-01,  1.38722293e-01,  4.02448801e-01,\n",
       "         1.59916440e-01, -4.44739749e-01, -3.89606871e-01,\n",
       "        -1.10016520e-01, -3.32981234e-01,  1.87667688e-01,\n",
       "         1.70547715e-01],\n",
       "       [ 4.09751937e-01, -3.39765659e-03,  7.37198526e-02,\n",
       "        -1.52863692e-01, -7.76384568e-02,  8.41437523e-02,\n",
       "         2.86353276e-01,  9.13668462e-02, -2.84277413e-03,\n",
       "        -4.00983513e-01,  3.47605663e-01,  1.47943123e-01,\n",
       "        -6.29542022e-01],\n",
       "       [ 7.21031004e-02, -3.96672251e-01,  2.28215647e-02,\n",
       "         2.56351797e-01,  2.49149071e-01,  1.43865382e-01,\n",
       "        -7.75866265e-02,  2.64503686e-01, -1.60016921e-01,\n",
       "        -9.44836899e-02,  6.29749663e-01,  1.01497896e-01,\n",
       "         4.13571958e-01],\n",
       "       [-2.58894153e-02, -1.15039735e-01,  2.16934157e-01,\n",
       "         4.67921717e-01, -2.38471188e-01, -3.01755625e-01,\n",
       "         3.42690964e-01, -4.27631998e-01,  2.68957831e-01,\n",
       "        -3.18526664e-01, -3.82035534e-02,  2.26943109e-01,\n",
       "         2.12351152e-01],\n",
       "       [ 2.17750800e-01, -3.16657125e-01, -4.40720861e-01,\n",
       "         2.84202653e-01, -7.03067155e-02, -4.13067961e-04,\n",
       "        -5.90896714e-01,  2.58584342e-02,  2.51251663e-01,\n",
       "        -1.82380285e-01, -2.33733450e-01,  1.67879249e-01,\n",
       "        -2.08161724e-01],\n",
       "       [-8.21139720e-02, -3.16648372e-01,  1.78762456e-01,\n",
       "         4.05506796e-01,  4.31278180e-01, -6.08117730e-02,\n",
       "         7.60614756e-02, -2.22852311e-01, -1.30571228e-01,\n",
       "         2.69052133e-01, -3.97195592e-02, -3.74683731e-01,\n",
       "        -4.69093220e-01]])"
      ]
     },
     "execution_count": 6,
     "metadata": {},
     "output_type": "execute_result"
    }
   ],
   "source": [
    "pca.components_"
   ]
  },
  {
   "cell_type": "code",
   "execution_count": 7,
   "id": "0b6a8c3d",
   "metadata": {},
   "outputs": [
    {
     "data": {
      "text/plain": [
       "array([[  0.77832315,  21.96254677,  -2.70271463,  -2.99231935,\n",
       "         16.54066921,  -8.71829461,   5.33465858,   0.34287085],\n",
       "       [ 10.21626509,  17.31998911,  18.2072092 , -10.0984683 ,\n",
       "         -9.34682922,   9.14804075,   3.78775831,   1.46621244],\n",
       "       [-14.61207945,   6.37128968,  -8.13950048, -11.58593536,\n",
       "          1.58948447,   3.40968709,  -5.13264675,   0.68890282],\n",
       "       [ 23.00709784,  -5.95585639,   1.94227828,  -2.92665743,\n",
       "          9.03687917,  -0.36752877,  -3.88416574,  -2.0943849 ],\n",
       "       [ 12.55410569, -16.64921193,  -8.64056555, -14.37340721,\n",
       "         -8.22154879,  -7.86569396,   4.57527645,  -4.03195346],\n",
       "       [ -9.46409596, -15.80076773,  12.14831578,   2.5783566 ,\n",
       "          9.56851344,   3.91874256,  -3.81840664,  -5.11159697],\n",
       "       [-10.93103325,  12.64833018,   5.75825169,  12.02717951,\n",
       "        -11.70739939,  -9.05826791,  -2.14101323,  -7.59325178],\n",
       "       [  5.12292714,  -1.83322058,  -9.82943731,  16.91685595,\n",
       "          2.67933756,  10.88527539,   7.69939925,  -3.03549149],\n",
       "       [ 18.28930437,   2.42876624,  -9.68269721,   6.14628401,\n",
       "         -6.59084759,   1.83265699,  -6.69427637,   2.65199733],\n",
       "       [-17.43468633,   4.91208471, -15.20354244,  -5.7526174 ,\n",
       "         -2.02407356,   5.34320657,  -2.1168468 ,   0.3664931 ],\n",
       "       [-12.03613324, -13.65918749,   0.60410186,   4.32905134,\n",
       "         -4.2439422 ,  -3.80389803,   6.29788765,   7.09203502],\n",
       "       [-10.29317534, -11.68762764,  11.00412472,  -4.30952295,\n",
       "          1.91375317,   0.71517971,   0.31855189,   1.55177052],\n",
       "       [  4.80318029,  -0.05713493,   4.53417609,  10.0412006 ,\n",
       "          0.80600373,  -5.43910577,  -4.22617659,   7.70639652]])"
      ]
     },
     "execution_count": 7,
     "metadata": {},
     "output_type": "execute_result"
    }
   ],
   "source": [
    "# Get new dimensions\n",
    "\n",
    "\n",
    "df_mde_pca = pca.transform(df_mde)\n",
    "df_mde_pca"
   ]
  },
  {
   "cell_type": "code",
   "execution_count": 8,
   "id": "ea553e76",
   "metadata": {},
   "outputs": [
    {
     "data": {
      "text/plain": [
       "(13, 8)"
      ]
     },
     "execution_count": 8,
     "metadata": {},
     "output_type": "execute_result"
    }
   ],
   "source": [
    "df_mde_pca.shape"
   ]
  },
  {
   "cell_type": "code",
   "execution_count": 9,
   "id": "0abc8ccd",
   "metadata": {},
   "outputs": [
    {
     "data": {
      "text/plain": [
       "PCA()"
      ]
     },
     "execution_count": 9,
     "metadata": {},
     "output_type": "execute_result"
    }
   ],
   "source": [
    "pca = PCA()\n",
    "pca.fit(df_mde)  # Calculating all eigen vectors and eigen values"
   ]
  },
  {
   "cell_type": "code",
   "execution_count": 10,
   "id": "1dfb9cf5",
   "metadata": {},
   "outputs": [
    {
     "data": {
      "text/plain": [
       "<matplotlib.lines.Line2D at 0x2452cb60a60>"
      ]
     },
     "execution_count": 10,
     "metadata": {},
     "output_type": "execute_result"
    },
    {
     "data": {
      "image/png": "[encoded data removed]",
      "text/plain": [
       "<Figure size 720x504 with 1 Axes>"
      ]
     },
     "metadata": {
      "needs_background": "light"
     },
     "output_type": "display_data"
    }
   ],
   "source": [
    "# Visualize Variance by new Dimensions\n",
    "plt.figure(figsize=(10,7))\n",
    "plt.plot(np.cumsum(pca.explained_variance_ratio_ * 100), color='k', lw=2)\n",
    "plt.xlabel('Number of components')\n",
    "plt.ylabel('Total explained variance')\n",
    "plt.axhline(95, c='r')\n",
    "plt.axvline(7, c='b')"
   ]
  },
  {
   "cell_type": "code",
   "execution_count": 11,
   "id": "71a8fb07",
   "metadata": {},
   "outputs": [
    {
     "data": {
      "text/plain": [
       "array([0.25250366, 0.47553925, 0.61952601, 0.74932851, 0.84530688,\n",
       "       0.90695831, 0.9410309 , 0.96866643, 0.98455071, 0.99557371,\n",
       "       0.99923539, 1.        , 1.        ])"
      ]
     },
     "execution_count": 11,
     "metadata": {},
     "output_type": "execute_result"
    }
   ],
   "source": [
    "np.cumsum(pca.explained_variance_ratio_) "
   ]
  },
  {
   "cell_type": "markdown",
   "id": "028f3a51",
   "metadata": {},
   "source": [
    "According to analysis above, 13 indexes will be concentrated to 8 primary components with the contribution rate of 95%."
   ]
  },
  {
   "cell_type": "markdown",
   "id": "dbb197b8",
   "metadata": {},
   "source": [
    "# Step by step calculation "
   ]
  },
  {
   "cell_type": "code",
   "execution_count": 12,
   "id": "b071996b",
   "metadata": {},
   "outputs": [
    {
     "data": {
      "text/plain": [
       "(13, 13)"
      ]
     },
     "execution_count": 12,
     "metadata": {},
     "output_type": "execute_result"
    }
   ],
   "source": [
    "# Print out the number of features in the dataset.\n",
    "df_mde.shape"
   ]
  },
  {
   "cell_type": "code",
   "execution_count": 19,
   "id": "75650fae",
   "metadata": {},
   "outputs": [
    {
     "name": "stdout",
     "output_type": "stream",
     "text": [
      "[81.92307692 88.15384615 86.84615385 86.07692308 84.69230769 86.61538462\n",
      " 84.61538462 86.69230769 86.         88.84615385 88.         92.38461538\n",
      " 87.53846154]\n"
     ]
    }
   ],
   "source": [
    "# Conduct the PCA step by step for the given dataset\n",
    "\n",
    "# 1 define a matrix with the dataframe\n",
    "data = np.array(df_mde)\n",
    "\n",
    "# 2 calculate the mean of each column\n",
    "M = np.mean(data.T, axis=1)\n",
    "print(M)"
   ]
  },
  {
   "cell_type": "code",
   "execution_count": 20,
   "id": "25156cf9",
   "metadata": {
    "scrolled": false
   },
   "outputs": [
    {
     "name": "stdout",
     "output_type": "stream",
     "text": [
      "[[  8.07692308  -0.15384615  11.15384615   4.92307692  10.30769231\n",
      "    9.38461538 -17.61538462   8.30769231   0.          -1.84615385\n",
      "    6.          -1.38461538   7.46153846]\n",
      " [  6.07692308   0.84615385   8.15384615   4.92307692   5.30769231\n",
      "   10.38461538  -0.61538462 -11.69230769   2.          -2.84615385\n",
      "  -23.           3.61538462   8.46153846]\n",
      " [ -3.92307692  -0.15384615  11.15384615  -1.07692308  -2.69230769\n",
      "  -12.61538462  -8.61538462  -2.69230769   0.           6.15384615\n",
      "    3.          -4.38461538   8.46153846]\n",
      " [ -1.92307692  -3.15384615  -5.84615385   4.92307692   7.30769231\n",
      "   10.38461538  14.38461538  12.30769231   6.           2.15384615\n",
      "   -2.           2.61538462   8.46153846]\n",
      " [-12.92307692   6.84615385 -19.84615385   1.92307692  -0.69230769\n",
      "   -1.61538462   1.38461538   9.30769231   5.           8.15384615\n",
      "   -9.          -3.38461538   2.46153846]\n",
      " [ -3.92307692  -9.15384615  -8.84615385  -5.07692308  -4.69230769\n",
      "   -0.61538462   6.38461538  -7.69230769 -12.          -3.84615385\n",
      "   10.           6.61538462   5.46153846]\n",
      " [ 11.07692308   6.84615385   9.15384615 -17.07692308  -5.69230769\n",
      "    2.38461538  -6.61538462  -2.69230769  -4.          -2.84615385\n",
      "   -3.           1.61538462  -8.53846154]\n",
      " [  7.07692308  -0.15384615  -1.84615385   7.92307692  -4.69230769\n",
      "   -4.61538462   5.38461538   5.30769231  10.         -11.84615385\n",
      "    7.           5.61538462  -8.53846154]\n",
      " [ -3.92307692  10.84615385   3.15384615   3.92307692   5.30769231\n",
      "    5.38461538  11.38461538   6.30769231  12.          -3.84615385\n",
      "   -2.          -4.38461538  -6.53846154]\n",
      " [ -3.92307692   6.84615385   9.15384615   4.92307692  -9.69230769\n",
      "  -13.61538462 -10.61538462  -3.69230769  -1.           5.15384615\n",
      "    7.          -2.38461538   0.46153846]\n",
      " [ -3.92307692 -10.15384615  -7.84615385  -5.07692308  -4.69230769\n",
      "   -6.61538462  -2.61538462  -4.69230769  -3.           4.15384615\n",
      "    3.          -1.38461538 -12.53846154]\n",
      " [ -3.92307692 -10.15384615  -7.84615385  -6.07692308  -1.69230769\n",
      "   -2.61538462   0.38461538 -10.69230769  -7.           1.15384615\n",
      "    2.          -1.38461538   3.46153846]\n",
      " [  6.07692308   0.84615385   0.15384615   0.92307692   6.30769231\n",
      "    4.38461538   7.38461538   2.30769231  -8.           0.15384615\n",
      "    1.          -1.38461538  -8.53846154]]\n"
     ]
    }
   ],
   "source": [
    "# 3 center columns by subtracting column means\n",
    "C = data - M\n",
    "print(C)"
   ]
  },
  {
   "cell_type": "code",
   "execution_count": 22,
   "id": "6c571311",
   "metadata": {
    "scrolled": false
   },
   "outputs": [
    {
     "name": "stdout",
     "output_type": "stream",
     "text": [
      "[[ 47.91025641   4.01282051  41.73717949  -4.91025641  10.30769231\n",
      "   23.38461538 -13.94871795  -2.94230769  -3.58333333 -24.26282051\n",
      "   -3.25        10.61538462 -11.53846154]\n",
      " [  4.01282051  46.64102564  23.85897436   9.98717949   3.46794872\n",
      "    4.23076923  -4.76923077  22.21794872  26.33333333   0.27564103\n",
      "  -17.75        -9.56410256  -7.92307692]\n",
      " [ 41.73717949  23.85897436  93.80769231   2.92948718   6.36538462\n",
      "    1.76923077 -48.23076923 -12.38461538   3.25       -10.52564103\n",
      "   -0.58333333  -4.26923077   7.58974359]\n",
      " [ -4.91025641   9.98717949   2.92948718  46.74358974  17.60897436\n",
      "    7.69871795  10.53205128  24.10897436  29.16666667  -3.90384615\n",
      "   -4.83333333  -0.78205128  14.78846154]\n",
      " [ 10.30769231   3.46794872   6.36538462  17.60897436  38.23076923\n",
      "   41.45512821  12.20512821  22.06410256  11.          -3.46794872\n",
      "  -19.08333333  -2.37179487  15.17948718]\n",
      " [ 23.38461538   4.23076923   1.76923077   7.69871795  41.45512821\n",
      "   64.75641026  24.50641026  19.20512821   9.         -15.48076923\n",
      "  -33.25         8.49358974  12.14102564]\n",
      " [-13.94871795  -4.76923077 -48.23076923  10.53205128  12.20512821\n",
      "   24.50641026  84.25641026  17.28846154  15.75       -12.81410256\n",
      "  -11.16666667  10.24358974 -12.27564103]\n",
      " [ -2.94230769  22.21794872 -12.38461538  24.10897436  22.06410256\n",
      "   19.20512821  17.28846154  61.73076923  33.58333333   0.28205128\n",
      "    8.25        -5.62179487  -3.15384615]\n",
      " [ -3.58333333  26.33333333   3.25        29.16666667  11.\n",
      "    9.          15.75        33.58333333  49.33333333  -7.16666667\n",
      "  -16.91666667  -4.08333333  -2.83333333]\n",
      " [-24.26282051   0.27564103 -10.52564103  -3.90384615  -3.46794872\n",
      "  -15.48076923 -12.81410256   0.28205128  -7.16666667  28.64102564\n",
      "   -4.91666667 -13.01923077  11.25641026]\n",
      " [ -3.25       -17.75        -0.58333333  -4.83333333 -19.08333333\n",
      "  -33.25       -11.16666667   8.25       -16.91666667  -4.91666667\n",
      "   73.66666667   0.41666667 -13.83333333]\n",
      " [ 10.61538462  -9.56410256  -4.26923077  -0.78205128  -2.37179487\n",
      "    8.49358974  10.24358974  -5.62179487  -4.08333333 -13.01923077\n",
      "    0.41666667  13.42307692   1.94230769]\n",
      " [-11.53846154  -7.92307692   7.58974359  14.78846154  15.17948718\n",
      "   12.14102564 -12.27564103  -3.15384615  -2.83333333  11.25641026\n",
      "  -13.83333333   1.94230769  61.43589744]]\n"
     ]
    }
   ],
   "source": [
    "# 4 Find the covariance between the features\n",
    "V = np.cov(C.T)\n",
    "print(V)"
   ]
  },
  {
   "cell_type": "code",
   "execution_count": 25,
   "id": "2153fb89",
   "metadata": {
    "scrolled": false
   },
   "outputs": [
    {
     "name": "stdout",
     "output_type": "stream",
     "text": [
      "[[-6.99078958e-03 -3.91033215e-01 -2.07597611e-01  4.09751937e-01\n",
      "  -7.21031004e-02 -2.58894153e-02 -2.17750800e-01 -8.21139720e-02\n",
      "   9.08579430e-02 -4.49413222e-01  3.46159156e-01  1.48521128e-01\n",
      "  -4.73192777e-01]\n",
      " [ 1.60221296e-01 -2.43926045e-01  3.59688990e-01 -3.39765659e-03\n",
      "   3.96672251e-01 -1.15039735e-01  3.16657125e-01 -3.16648372e-01\n",
      "   5.33634313e-01  2.30613214e-01  1.00235602e-01  2.47242293e-01\n",
      "  -7.20874688e-02]\n",
      " [-1.88764060e-01 -7.00875106e-01  8.88171775e-02  7.37198526e-02\n",
      "  -2.28215647e-02  2.16934157e-01  4.40720861e-01  1.78762456e-01\n",
      "  -2.21290229e-01 -1.15343880e-01 -2.37253460e-01 -1.52621586e-01\n",
      "   2.10216160e-01]\n",
      " [ 2.77085417e-01 -7.83045692e-02  2.75651252e-01 -1.52863692e-01\n",
      "  -2.56351797e-01  4.67921717e-01 -2.84202653e-01  4.05506796e-01\n",
      "   4.90342386e-01 -6.87579131e-02 -1.42080433e-01 -1.12978854e-01\n",
      "  -9.87566771e-02]\n",
      " [ 3.31556720e-01 -1.72836169e-01 -1.38722293e-01 -7.76384568e-02\n",
      "  -2.49149071e-01 -2.38471188e-01  7.03067155e-02  4.31278180e-01\n",
      "  -6.54386639e-02  1.78496403e-01  3.89190809e-01  4.79153890e-01\n",
      "   3.28386062e-01]\n",
      " [ 4.34703949e-01 -2.02892658e-01 -4.02448801e-01  8.41437523e-02\n",
      "  -1.43865382e-01 -3.01755625e-01  4.13067961e-04 -6.08117730e-02\n",
      "   4.16471226e-02  3.28504918e-01 -5.27293101e-01 -1.46289061e-01\n",
      "  -2.76190916e-01]\n",
      " [ 4.41218293e-01  3.93976059e-01 -1.59916440e-01  2.86353276e-01\n",
      "   7.75866265e-02  3.42690964e-01  5.90896714e-01  7.60614756e-02\n",
      "  -4.95295280e-02 -2.21061871e-01  6.59365623e-02 -2.45526295e-02\n",
      "  -8.86835570e-02]\n",
      " [ 3.77666911e-01  8.42182953e-04  4.44739749e-01  9.13668462e-02\n",
      "  -2.64503686e-01 -4.27631998e-01 -2.58584342e-02 -2.22852311e-01\n",
      "  -6.63890916e-02 -4.02142907e-01  2.03183252e-02 -3.26666573e-01\n",
      "   2.73518191e-01]\n",
      " [ 3.42026294e-01 -9.66573278e-02  3.89606871e-01 -2.84277413e-03\n",
      "   1.60016921e-01  2.68957831e-01 -2.51251663e-01 -1.30571228e-01\n",
      "  -6.17641598e-01  1.62861139e-01 -6.43483720e-02  2.78680516e-01\n",
      "  -2.32261423e-01]\n",
      " [-8.50061021e-02  1.08835960e-01  1.10016520e-01 -4.00983513e-01\n",
      "   9.44836899e-02 -3.18526664e-01  1.82380285e-01  2.69052133e-01\n",
      "  -3.47245024e-02 -4.66922118e-01 -3.61629018e-01  3.70977036e-01\n",
      "  -3.23075376e-01]\n",
      " [-3.11015904e-01  1.73195299e-01  3.32981234e-01  3.47605663e-01\n",
      "  -6.29749663e-01 -3.82035534e-02  2.33733450e-01 -3.97195592e-02\n",
      "   1.42955453e-02  2.63993640e-01 -9.86909054e-02  2.29741490e-01\n",
      "  -2.34297090e-01]\n",
      " [ 2.40395884e-02  1.92085728e-02 -1.87667688e-01  1.47943123e-01\n",
      "  -1.01497896e-01  2.26943109e-01 -1.67879249e-01 -3.74683731e-01\n",
      "   1.41826901e-01 -2.45716926e-01 -4.03880925e-01  5.03763125e-01\n",
      "   4.62797684e-01]\n",
      " [ 6.44359318e-02 -1.11474155e-01 -1.70547715e-01 -6.29542022e-01\n",
      "  -4.13571958e-01  2.12351152e-01  2.08161724e-01 -4.69093220e-01\n",
      "  -4.11178672e-02 -4.28982459e-02  2.27171054e-01 -2.46394479e-02\n",
      "  -1.50839603e-01]]\n",
      "\n",
      "[ 1.79423273e+02  1.58483942e+02  1.02313673e+02  9.22346563e+01\n",
      "  6.82000207e+01  4.38080799e+01  2.42111984e+01  1.96371696e+01\n",
      "  1.12870011e+01  7.83269108e+00  2.60190501e+00 -4.31854680e-15\n",
      "  5.43313308e-01]\n"
     ]
    }
   ],
   "source": [
    "# 5 eigendecomposition (Eigen value and Eigen vector) of covariance matrix\n",
    "values, vectors = eig(V)\n",
    "print(vectors)\n",
    "print(f'\\n{values}')"
   ]
  },
  {
   "cell_type": "code",
   "execution_count": 24,
   "id": "a1e166dc",
   "metadata": {
    "scrolled": false
   },
   "outputs": [
    {
     "name": "stdout",
     "output_type": "stream",
     "text": [
      "[[ 7.78323146e-01 -2.19625468e+01  2.70271463e+00 -2.99231935e+00\n",
      "  -1.65406692e+01 -8.71829461e+00 -5.33465858e+00  3.42870851e-01\n",
      "   2.81475090e-01  2.65171372e+00 -1.65022158e-01 -2.25797369e-15\n",
      "   9.95096179e-02]\n",
      " [ 1.02162651e+01 -1.73199891e+01 -1.82072092e+01 -1.00984683e+01\n",
      "   9.34682922e+00  9.14804075e+00 -3.78775831e+00  1.46621244e+00\n",
      "   1.20477163e+00 -2.86639801e-01 -5.01301620e-01  2.83517443e-15\n",
      "   2.63370668e-01]\n",
      " [-1.46120794e+01 -6.37128968e+00  8.13950048e+00 -1.15859354e+01\n",
      "  -1.58948447e+00  3.40968709e+00  5.13264675e+00  6.88902822e-01\n",
      "  -4.31917558e+00 -2.48943177e+00  2.28630017e+00  2.61312983e-15\n",
      "   9.49747860e-01]\n",
      " [ 2.30070978e+01  5.95585639e+00 -1.94227828e+00 -2.92665743e+00\n",
      "  -9.03687917e+00 -3.67528773e-01  3.88416574e+00 -2.09438490e+00\n",
      "  -3.51153376e+00 -4.50292025e+00 -1.82906565e+00 -2.82696299e-15\n",
      "  -6.42267268e-01]\n",
      " [ 1.25541057e+01  1.66492119e+01  8.64056555e+00 -1.43734072e+01\n",
      "   8.22154879e+00 -7.86569396e+00 -4.57527645e+00 -4.03195346e+00\n",
      "   3.02417459e+00  1.97389904e-01  1.05485967e+00  1.48209012e-15\n",
      "   2.76896871e-01]\n",
      " [-9.46409596e+00  1.58007677e+01 -1.21483158e+01  2.57835660e+00\n",
      "  -9.56851344e+00  3.91874256e+00  3.81840664e+00 -5.11159697e+00\n",
      "   3.10465850e+00  2.28546277e+00 -9.47440385e-01 -6.89315482e-15\n",
      "   1.04143570e+00]\n",
      " [-1.09310332e+01 -1.26483302e+01 -5.75825169e+00  1.20271795e+01\n",
      "   1.17073994e+01 -9.05826791e+00  2.14101323e+00 -7.59325178e+00\n",
      "  -1.65452140e+00 -1.11370112e+00 -1.97958641e-01 -1.92490679e-15\n",
      "  -2.14904648e-01]\n",
      " [ 5.12292714e+00  1.83322058e+00  9.82943731e+00  1.69168559e+01\n",
      "  -2.67933756e+00  1.08852754e+01 -7.69939925e+00 -3.03549149e+00\n",
      "  -1.67275574e-01 -1.23200590e+00  1.55891182e+00 -5.69966507e-15\n",
      "  -4.89123346e-02]\n",
      " [ 1.82893044e+01 -2.42876624e+00  9.68269721e+00  6.14628401e+00\n",
      "   6.59084759e+00  1.83265699e+00  6.69427637e+00  2.65199733e+00\n",
      "  -2.10828173e+00  5.87387156e+00 -3.69637455e-01 -2.17470697e-15\n",
      "   2.02613788e-01]\n",
      " [-1.74346863e+01 -4.91208471e+00  1.52035424e+01 -5.75261740e+00\n",
      "   2.02407356e+00  5.34320657e+00  2.11684680e+00  3.66493102e-01\n",
      "   4.70491608e+00 -5.78924418e-01 -2.33317682e+00 -1.17035430e-14\n",
      "  -9.36038768e-01]\n",
      " [-1.20361332e+01  1.36591875e+01 -6.04101857e-01  4.32905134e+00\n",
      "   4.24394220e+00 -3.80389803e+00 -6.29788765e+00  7.09203502e+00\n",
      "  -3.98468311e+00 -6.28074049e-01 -2.29300766e+00 -4.31188629e-15\n",
      "   5.77446607e-01]\n",
      " [-1.02931753e+01  1.16876276e+01 -1.10041247e+01 -4.30952295e+00\n",
      "  -1.91375317e+00  7.15179713e-01 -3.18551890e-01  1.55177052e+00\n",
      "  -2.35244856e+00  2.83882080e+00  2.05908085e+00  1.14532807e-14\n",
      "  -1.63142674e+00]\n",
      " [ 4.80318029e+00  5.71349258e-02 -4.53417609e+00  1.00412006e+01\n",
      "  -8.06003727e-01 -5.43910577e+00  4.22617659e+00  7.70639652e+00\n",
      "   5.77792381e+00 -3.01556145e+00  1.67745789e+00  4.73643136e-15\n",
      "   6.25286482e-02]]\n"
     ]
    }
   ],
   "source": [
    "# 6 project data\n",
    "P = vectors.T.dot(C.T)\n",
    "print(P.T)"
   ]
  },
  {
   "cell_type": "code",
   "execution_count": null,
   "id": "0e7c010a",
   "metadata": {},
   "outputs": [],
   "source": []
  }
 ],
 "metadata": {
  "kernelspec": {
   "display_name": "Python 3",
   "language": "python",
   "name": "python3"
  },
  "language_info": {
   "codemirror_mode": {
    "name": "ipython",
    "version": 3
   },
   "file_extension": ".py",
   "mimetype": "text/x-python",
   "name": "python",
   "nbconvert_exporter": "python",
   "pygments_lexer": "ipython3",
   "version": "3.8.8"
  }
 },
 "nbformat": 4,
 "nbformat_minor": 5
}
